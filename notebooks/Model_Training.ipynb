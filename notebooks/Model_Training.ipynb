{
  "nbformat": 4,
  "nbformat_minor": 0,
  "metadata": {
    "colab": {
      "provenance": [],
      "include_colab_link": true
    },
    "kernelspec": {
      "name": "python3",
      "display_name": "Python 3"
    },
    "language_info": {
      "name": "python"
    }
  },
  "cells": [
    {
      "cell_type": "markdown",
      "metadata": {
        "id": "view-in-github",
        "colab_type": "text"
      },
      "source": [
        "<a href=\"https://colab.research.google.com/github/DwiBagiaSantosa/C23-PS117/blob/ml/notebooks/Model_Training.ipynb\" target=\"_parent\"><img src=\"https://colab.research.google.com/assets/colab-badge.svg\" alt=\"Open In Colab\"/></a>"
      ]
    },
    {
      "cell_type": "markdown",
      "source": [
        "# Import the Dataset"
      ],
      "metadata": {
        "id": "uK7CJM2QSVvC"
      }
    },
    {
      "cell_type": "code",
      "execution_count": null,
      "metadata": {
        "id": "Y6yCXcDhR5H2"
      },
      "outputs": [],
      "source": [
        "!pip install gdown -q"
      ]
    },
    {
      "cell_type": "code",
      "source": [
        "import tensorflow as tf\n",
        "import tensorflow_hub as hub\n",
        "from tensorflow.keras.preprocessing.image import ImageDataGenerator\n",
        "\n",
        "import pathlib\n",
        "import numpy as np\n",
        "import matplotlib.pylab as plt"
      ],
      "metadata": {
        "id": "4-aKRmIHSbDK"
      },
      "execution_count": null,
      "outputs": []
    },
    {
      "cell_type": "code",
      "source": [
        "print(tf. __version__)"
      ],
      "metadata": {
        "id": "m2RVn5xPSagt",
        "outputId": "4d18866d-7e5b-42e5-cfe7-5815d1f2ec32",
        "colab": {
          "base_uri": "https://localhost:8080/"
        }
      },
      "execution_count": null,
      "outputs": [
        {
          "output_type": "stream",
          "name": "stdout",
          "text": [
            "2.12.0\n"
          ]
        }
      ]
    },
    {
      "cell_type": "code",
      "source": [
        "# download dataset\n",
        "\n",
        "!gdown 'https://drive.google.com/uc?id=1GVpoqEV8Zb0cYxPv4N7v6ornfFMmYcks' -O cleaned_dataset_v2.zip\n",
        "!unzip -q cleaned_dataset_v2.zip\n",
        "!mv /content/content/dataset /content\n",
        "!rm -rf /content/content"
      ],
      "metadata": {
        "colab": {
          "base_uri": "https://localhost:8080/"
        },
        "id": "9wG6isswSeS5",
        "outputId": "4ad24674-e3db-42b7-876e-f6daee99f399"
      },
      "execution_count": null,
      "outputs": [
        {
          "output_type": "stream",
          "name": "stdout",
          "text": [
            "Downloading...\n",
            "From: https://drive.google.com/uc?id=1GVpoqEV8Zb0cYxPv4N7v6ornfFMmYcks\n",
            "To: /content/cleaned_dataset_v2.zip\n",
            "100% 228M/228M [00:05<00:00, 42.1MB/s]\n"
          ]
        }
      ]
    },
    {
      "cell_type": "code",
      "source": [
        "dataset_dir = \"/content/dataset\"\n",
        "train_dir = \"/content/dataset/train\"\n",
        "valid_dir = \"/content/dataset/dev\"\n",
        "test_dir = \"/content/dataset/test\""
      ],
      "metadata": {
        "id": "I6NGkjf1Sosj"
      },
      "execution_count": null,
      "outputs": []
    },
    {
      "cell_type": "code",
      "source": [
        "handle_base, pixels, FV_SIZE = (\"mobilenet_v2\", 224, 1280)\n",
        "MODULE_HANDLE =\"https://tfhub.dev/google/tf2-preview/{}/feature_vector/4\".format(handle_base)\n",
        "IMAGE_SIZE = (pixels, pixels)\n",
        "\n",
        "print(\"Using {} with input size {} and output dimension {}\".format(MODULE_HANDLE, IMAGE_SIZE, FV_SIZE))"
      ],
      "metadata": {
        "colab": {
          "base_uri": "https://localhost:8080/"
        },
        "id": "nTLMGLb4SumL",
        "outputId": "9740253b-fb4c-488e-d9ab-9924415b18e9"
      },
      "execution_count": null,
      "outputs": [
        {
          "output_type": "stream",
          "name": "stdout",
          "text": [
            "Using https://tfhub.dev/google/tf2-preview/mobilenet_v2/feature_vector/4 with input size (224, 224) and output dimension 1280\n"
          ]
        }
      ]
    },
    {
      "cell_type": "markdown",
      "source": [
        "# ImageGenerator"
      ],
      "metadata": {
        "id": "JlKkG4ExUFUF"
      }
    },
    {
      "cell_type": "code",
      "source": [
        "BATCH_SIZE = 64"
      ],
      "metadata": {
        "id": "BQLOF2oDS6-a"
      },
      "execution_count": null,
      "outputs": []
    },
    {
      "cell_type": "code",
      "source": [
        "# Datagen\n",
        "train_datagen =  tf.keras.preprocessing.image.ImageDataGenerator(\n",
        "    rescale=1./255,\n",
        "    shear_range=0.2,\n",
        "    zoom_range=0.2,\n",
        "    fill_mode='nearest'\n",
        ")\n",
        "\n",
        "test_datagen = ImageDataGenerator(rescale=1./255)\n",
        "valid_datagen =  ImageDataGenerator(rescale=1./255)\n",
        "\n",
        "# Flow training data generator\n",
        "train_generator = train_datagen.flow_from_directory(\n",
        "    train_dir,\n",
        "    target_size=(224, 224),\n",
        "    batch_size=BATCH_SIZE,\n",
        "    shuffle=True,\n",
        "    class_mode='categorical'\n",
        ")\n",
        "\n",
        "# Flow validation data generator\n",
        "validation_generator = valid_datagen.flow_from_directory(\n",
        "    valid_dir,\n",
        "    target_size=(224, 224),\n",
        "    batch_size=BATCH_SIZE,\n",
        "    shuffle=False,\n",
        "    class_mode='categorical'\n",
        ")\n",
        "\n",
        "# Flow test data generator\n",
        "test_generator = test_datagen.flow_from_directory(\n",
        "    test_dir,\n",
        "    target_size=(224, 224),\n",
        "    batch_size=BATCH_SIZE,\n",
        "    shuffle=False,\n",
        "    class_mode='categorical'\n",
        ")"
      ],
      "metadata": {
        "colab": {
          "base_uri": "https://localhost:8080/"
        },
        "id": "2MQoE1giUNTe",
        "outputId": "405348be-c31f-438f-b269-438830ca23fd"
      },
      "execution_count": null,
      "outputs": [
        {
          "output_type": "stream",
          "name": "stdout",
          "text": [
            "Found 14700 images belonging to 21 classes.\n",
            "Found 3150 images belonging to 21 classes.\n",
            "Found 3150 images belonging to 21 classes.\n"
          ]
        }
      ]
    },
    {
      "cell_type": "code",
      "source": [
        "class_names = list(train_generator.class_indices.keys())\n",
        "\n",
        "# Create a labels.txt file with the class names\n",
        "\n",
        "with open('labels.txt', 'w') as f:\n",
        "    f.write('\\n'.join(class_names))"
      ],
      "metadata": {
        "id": "zmBKK_NMUgbj"
      },
      "execution_count": null,
      "outputs": []
    },
    {
      "cell_type": "code",
      "source": [
        "feature_extractor = hub.KerasLayer(\n",
        "    MODULE_HANDLE,\n",
        "    input_shape=IMAGE_SIZE + (3,),\n",
        "    output_shape=[FV_SIZE],\n",
        "    trainable=False\n",
        ")"
      ],
      "metadata": {
        "id": "Zhdp-pJyUjQX"
      },
      "execution_count": null,
      "outputs": []
    },
    {
      "cell_type": "code",
      "source": [
        "print(\"Building model with\", MODULE_HANDLE)\n",
        "\n",
        "model = tf.keras.Sequential([\n",
        "    feature_extractor,\n",
        "    tf.keras.layers.Dense(len(class_names), activation='softmax')\n",
        "])\n",
        "\n",
        "model.summary()"
      ],
      "metadata": {
        "colab": {
          "base_uri": "https://localhost:8080/"
        },
        "id": "_vgUMgWWUmUN",
        "outputId": "3106dd48-1175-47d1-df7f-5f848812320d"
      },
      "execution_count": null,
      "outputs": [
        {
          "output_type": "stream",
          "name": "stdout",
          "text": [
            "Building model with https://tfhub.dev/google/tf2-preview/mobilenet_v2/feature_vector/4\n",
            "Model: \"sequential\"\n",
            "_________________________________________________________________\n",
            " Layer (type)                Output Shape              Param #   \n",
            "=================================================================\n",
            " keras_layer (KerasLayer)    (None, 1280)              2257984   \n",
            "                                                                 \n",
            " dense (Dense)               (None, 21)                26901     \n",
            "                                                                 \n",
            "=================================================================\n",
            "Total params: 2,284,885\n",
            "Trainable params: 26,901\n",
            "Non-trainable params: 2,257,984\n",
            "_________________________________________________________________\n"
          ]
        }
      ]
    },
    {
      "cell_type": "code",
      "source": [
        "model.compile(\n",
        "    optimizer='adam',\n",
        "    loss='categorical_crossentropy',\n",
        "    metrics=['accuracy']\n",
        ")"
      ],
      "metadata": {
        "id": "vuZ5qSvlU-wc"
      },
      "execution_count": null,
      "outputs": []
    },
    {
      "cell_type": "markdown",
      "source": [
        "# Train the model using MobileNet v2"
      ],
      "metadata": {
        "id": "c5Wr3JjiVAYc"
      }
    },
    {
      "cell_type": "code",
      "source": [
        "from keras import callbacks\n",
        "\n",
        "early_stop = callbacks.EarlyStopping(\n",
        "    monitor=\"val_loss\",\n",
        "    mode=\"min\",\n",
        "    patience=3,\n",
        "    restore_best_weights=True\n",
        ")"
      ],
      "metadata": {
        "id": "gJTn6mxoVIFm"
      },
      "execution_count": null,
      "outputs": []
    },
    {
      "cell_type": "code",
      "source": [
        "EPOCHS = 10\n",
        "\n",
        "history = model.fit(\n",
        "    train_generator,\n",
        "    epochs=EPOCHS,\n",
        "    validation_data=validation_generator,\n",
        "    verbose=1,\n",
        "    callbacks=[early_stop]\n",
        ")"
      ],
      "metadata": {
        "colab": {
          "base_uri": "https://localhost:8080/"
        },
        "id": "YfS4otSdVOHX",
        "outputId": "91f8ed3f-262d-4e30-958c-afa7b7c66e5f"
      },
      "execution_count": null,
      "outputs": [
        {
          "output_type": "stream",
          "name": "stdout",
          "text": [
            "Epoch 1/10\n",
            "230/230 [==============================] - 855s 4s/step - loss: 1.1943 - accuracy: 0.6653 - val_loss: 0.8156 - val_accuracy: 0.7559\n",
            "Epoch 2/10\n",
            "230/230 [==============================] - 860s 4s/step - loss: 0.7056 - accuracy: 0.7925 - val_loss: 0.7055 - val_accuracy: 0.7889\n",
            "Epoch 3/10\n",
            "230/230 [==============================] - 830s 4s/step - loss: 0.6144 - accuracy: 0.8184 - val_loss: 0.6638 - val_accuracy: 0.7981\n",
            "Epoch 4/10\n",
            "230/230 [==============================] - 813s 4s/step - loss: 0.5542 - accuracy: 0.8339 - val_loss: 0.6701 - val_accuracy: 0.7971\n",
            "Epoch 5/10\n",
            "230/230 [==============================] - 833s 4s/step - loss: 0.5082 - accuracy: 0.8480 - val_loss: 0.6419 - val_accuracy: 0.8057\n",
            "Epoch 6/10\n",
            "230/230 [==============================] - 846s 4s/step - loss: 0.4737 - accuracy: 0.8582 - val_loss: 0.6286 - val_accuracy: 0.8079\n",
            "Epoch 7/10\n",
            "230/230 [==============================] - 834s 4s/step - loss: 0.4455 - accuracy: 0.8661 - val_loss: 0.6311 - val_accuracy: 0.8121\n",
            "Epoch 8/10\n",
            "230/230 [==============================] - 833s 4s/step - loss: 0.4324 - accuracy: 0.8701 - val_loss: 0.6426 - val_accuracy: 0.8070\n",
            "Epoch 9/10\n",
            "230/230 [==============================] - 844s 4s/step - loss: 0.4088 - accuracy: 0.8769 - val_loss: 0.6260 - val_accuracy: 0.8137\n",
            "Epoch 10/10\n",
            "230/230 [==============================] - 842s 4s/step - loss: 0.3901 - accuracy: 0.8816 - val_loss: 0.6188 - val_accuracy: 0.8171\n"
          ]
        }
      ]
    },
    {
      "cell_type": "markdown",
      "source": [
        "# Result"
      ],
      "metadata": {
        "id": "SYziOZtCvAX7"
      }
    },
    {
      "cell_type": "code",
      "source": [
        "import matplotlib.pyplot as plt\n",
        "acc = history.history['accuracy']\n",
        "val_acc = history.history['val_accuracy']\n",
        "loss = history.history['loss']\n",
        "val_loss = history.history['val_loss']\n",
        "\n",
        "epochs = range(len(acc))\n",
        "\n",
        "plt.plot(epochs, acc, 'b', label='Training accuracy')\n",
        "plt.plot(epochs, val_acc, 'r', label='Validation accuracy')\n",
        "plt.title('Training and validation accuracy')\n",
        "plt.legend()\n",
        "plt.figure()\n",
        "plt.plot(epochs, loss, 'b', label='Training Loss')\n",
        "plt.plot(epochs, val_loss, 'r', label='Validation Loss')\n",
        "plt.title('Training and validation loss')\n",
        "plt.legend()\n",
        "plt.show()"
      ],
      "metadata": {
        "colab": {
          "base_uri": "https://localhost:8080/",
          "height": 887
        },
        "id": "wlky_2oKVRLZ",
        "outputId": "e3dd6171-20a3-4601-8026-da3202f446c6"
      },
      "execution_count": null,
      "outputs": [
        {
          "output_type": "display_data",
          "data": {
            "text/plain": [
              "<Figure size 640x480 with 1 Axes>"
            ],
            "image/png": "[encoded data removed]"
          },
          "metadata": {}
        },
        {
          "output_type": "display_data",
          "data": {
            "text/plain": [
              "<Figure size 640x480 with 1 Axes>"
            ],
            "image/png": "[encoded data removed]"
          },
          "metadata": {}
        }
      ]
    },
    {
      "cell_type": "code",
      "source": [
        "# Evaluate final score on Validation and Testing data\n",
        "\n",
        "scores = model.evaluate(validation_generator)\n",
        "scores = model.evaluate(test_generator)"
      ],
      "metadata": {
        "colab": {
          "base_uri": "https://localhost:8080/"
        },
        "id": "cOWJw4KFvMQb",
        "outputId": "31e3ac87-f395-4890-bbb4-cea1fe0bc9ca"
      },
      "execution_count": null,
      "outputs": [
        {
          "output_type": "stream",
          "name": "stdout",
          "text": [
            "50/50 [==============================] - 121s 2s/step - loss: 0.6188 - accuracy: 0.8171\n",
            "50/50 [==============================] - 121s 2s/step - loss: 0.5440 - accuracy: 0.8387\n"
          ]
        }
      ]
    },
    {
      "cell_type": "markdown",
      "source": [
        "# Results :\n",
        "- Training : 88.11 %\n",
        "- Validation : 81.71 %\n",
        "- Test : 83.87 %"
      ],
      "metadata": {
        "id": "ZRNyJpj74VNY"
      }
    },
    {
      "cell_type": "markdown",
      "source": [
        "# Export"
      ],
      "metadata": {
        "id": "me-CeddevqC0"
      }
    },
    {
      "cell_type": "code",
      "source": [
        "model.save('model.h5')\n",
        "model.save('model')\n",
        "!zip -r 'model.zip' 'model'"
      ],
      "metadata": {
        "colab": {
          "base_uri": "https://localhost:8080/"
        },
        "id": "NPXH46_jvsHo",
        "outputId": "407f11d3-89c8-4654-f986-af3c6bcdcd23"
      },
      "execution_count": null,
      "outputs": [
        {
          "output_type": "stream",
          "name": "stderr",
          "text": [
            "WARNING:absl:Found untraced functions such as _update_step_xla while saving (showing 1 of 1). These functions will not be directly callable after loading.\n"
          ]
        },
        {
          "output_type": "stream",
          "name": "stdout",
          "text": [
            "  adding: model/ (stored 0%)\n",
            "  adding: model/keras_metadata.pb (deflated 81%)\n",
            "  adding: model/saved_model.pb (deflated 91%)\n",
            "  adding: model/fingerprint.pb (stored 0%)\n",
            "  adding: model/variables/ (stored 0%)\n",
            "  adding: model/variables/variables.data-00000-of-00001 (deflated 8%)\n",
            "  adding: model/variables/variables.index (deflated 78%)\n",
            "  adding: model/assets/ (stored 0%)\n"
          ]
        }
      ]
    },
    {
      "cell_type": "code",
      "source": [
        "converter = tf.lite.TFLiteConverter.from_saved_model('model')\n",
        "\n",
        "# Set the optimizations\n",
        "converter.optimizations = [tf.lite.Optimize.DEFAULT]\n",
        "converter.target_spec.supported_ops = [tf.lite.OpsSet.TFLITE_BUILTINS]\n",
        "\n",
        "# Invoke the converter to generate the TFLite model\n",
        "tflite_model = converter.convert()\n",
        "\n",
        "tflite_model_file = pathlib.Path('./model.tflite')\n",
        "tflite_model_file.write_bytes(tflite_model)"
      ],
      "metadata": {
        "colab": {
          "base_uri": "https://localhost:8080/"
        },
        "id": "ZlY6naCiv9oL",
        "outputId": "0bc95db6-f89a-42fc-a62f-d6bc203e0866"
      },
      "execution_count": null,
      "outputs": [
        {
          "output_type": "execute_result",
          "data": {
            "text/plain": [
              "2534144"
            ]
          },
          "metadata": {},
          "execution_count": 17
        }
      ]
    },
    {
      "cell_type": "code",
      "source": [
        "from sklearn.metrics import classification_report, confusion_matrix\n",
        "\n",
        "Y_pred = model.predict(test_generator)\n",
        "y_pred = np.argmax(Y_pred, axis=1)\n",
        "\n",
        "cm = confusion_matrix(test_generator.classes, y_pred)\n",
        "\n",
        "print('Classification Report')\n",
        "print(classification_report(test_generator.classes, y_pred, target_names=class_names))"
      ],
      "metadata": {
        "colab": {
          "base_uri": "https://localhost:8080/"
        },
        "id": "dM9HdWoowJK-",
        "outputId": "e609f60d-13e3-4aa6-c7bb-894f01df9308"
      },
      "execution_count": null,
      "outputs": [
        {
          "output_type": "stream",
          "name": "stdout",
          "text": [
            "50/50 [==============================] - 119s 2s/step\n",
            "Classification Report\n",
            "                precision    recall  f1-score   support\n",
            "\n",
            "         bakso       0.91      0.95      0.93       150\n",
            "    cheesecake       0.78      0.82      0.80       150\n",
            " chicken_wings       0.86      0.81      0.83       150\n",
            "       churros       0.82      0.81      0.82       150\n",
            "        donuts       0.90      0.77      0.83       150\n",
            "           egg       0.83      0.73      0.78       150\n",
            "  french_fries       0.85      0.85      0.85       150\n",
            "    fried_rice       0.88      0.87      0.88       150\n",
            "          gado       0.82      0.91      0.86       150\n",
            "     hamburger       0.85      0.84      0.85       150\n",
            "       hot_dog       0.84      0.79      0.81       150\n",
            "mac_and_cheese       0.80      0.81      0.81       150\n",
            "      pancakes       0.65      0.79      0.71       150\n",
            "         pizza       0.88      0.87      0.88       150\n",
            "       rendang       0.91      0.86      0.88       150\n",
            "          sate       0.93      0.88      0.90       150\n",
            "          soup       0.94      0.94      0.94       150\n",
            "     spaghetti       0.91      0.94      0.92       150\n",
            "         sushi       0.80      0.81      0.81       150\n",
            "      takoyaki       0.74      0.78      0.76       150\n",
            "       waffles       0.77      0.77      0.77       150\n",
            "\n",
            "      accuracy                           0.84      3150\n",
            "     macro avg       0.84      0.84      0.84      3150\n",
            "  weighted avg       0.84      0.84      0.84      3150\n",
            "\n"
          ]
        }
      ]
    }
  ]
}