{
  "nbformat": 4,
  "nbformat_minor": 0,
  "metadata": {
    "colab": {
      "provenance": [],
      "authorship_tag": "ABX9TyNdvspl7s8RC1AVcGYd65KW",
      "include_colab_link": true
    },
    "kernelspec": {
      "name": "python3",
      "display_name": "Python 3"
    },
    "language_info": {
      "name": "python"
    }
  },
  "cells": [
    {
      "cell_type": "markdown",
      "metadata": {
        "id": "view-in-github",
        "colab_type": "text"
      },
      "source": [
        "<a href=\"https://colab.research.google.com/github/DwiBagiaSantosa/C23-PS117/blob/ml/notebooks/Model_Training.ipynb\" target=\"_parent\"><img src=\"https://colab.research.google.com/assets/colab-badge.svg\" alt=\"Open In Colab\"/></a>"
      ]
    },
    {
      "cell_type": "markdown",
      "source": [
        "# Import the Dataset"
      ],
      "metadata": {
        "id": "uK7CJM2QSVvC"
      }
    },
    {
      "cell_type": "code",
      "execution_count": null,
      "metadata": {
        "id": "Y6yCXcDhR5H2"
      },
      "outputs": [],
      "source": [
        "!pip install gdown -q"
      ]
    },
    {
      "cell_type": "code",
      "source": [
        "import tensorflow as tf\n",
        "import tensorflow_hub as hub\n",
        "from tensorflow.keras.preprocessing.image import ImageDataGenerator\n",
        "\n",
        "import pathlib\n",
        "import numpy as np\n",
        "import matplotlib.pylab as plt"
      ],
      "metadata": {
        "id": "4-aKRmIHSbDK"
      },
      "execution_count": null,
      "outputs": []
    },
    {
      "cell_type": "code",
      "source": [
        "# download dataset\n",
        "\n",
        "!gdown 'https://drive.google.com/uc?id=1mHgYW8AWVe4WTpxk95GmeuWESXAM0KJp' -O cleaned_dataset.zip\n",
        "!unzip -q cleaned_dataset.zip\n",
        "!mv /content/content/dataset /content\n",
        "!rm -rf /content/content"
      ],
      "metadata": {
        "colab": {
          "base_uri": "https://localhost:8080/"
        },
        "id": "9wG6isswSeS5",
        "outputId": "ce30e5a3-f646-4ffe-fd89-55b4c80a4f37"
      },
      "execution_count": null,
      "outputs": [
        {
          "output_type": "stream",
          "name": "stdout",
          "text": [
            "Downloading...\n",
            "From: https://drive.google.com/uc?id=1mHgYW8AWVe4WTpxk95GmeuWESXAM0KJp\n",
            "To: /content/cleaned_dataset.zip\n",
            "100% 248M/248M [00:05<00:00, 44.1MB/s]\n"
          ]
        }
      ]
    },
    {
      "cell_type": "code",
      "source": [
        "dataset_dir = \"/content/dataset\"\n",
        "train_dir = \"/content/dataset/train\"\n",
        "valid_dir = \"/content/dataset/dev\"\n",
        "test_dir = \"/content/dataset/test\""
      ],
      "metadata": {
        "id": "I6NGkjf1Sosj"
      },
      "execution_count": null,
      "outputs": []
    },
    {
      "cell_type": "code",
      "source": [
        "handle_base, pixels, FV_SIZE = (\"mobilenet_v2\", 224, 1280)\n",
        "MODULE_HANDLE =\"https://tfhub.dev/google/tf2-preview/{}/feature_vector/4\".format(handle_base)\n",
        "IMAGE_SIZE = (pixels, pixels)\n",
        "\n",
        "print(\"Using {} with input size {} and output dimension {}\".format(MODULE_HANDLE, IMAGE_SIZE, FV_SIZE))"
      ],
      "metadata": {
        "colab": {
          "base_uri": "https://localhost:8080/"
        },
        "id": "nTLMGLb4SumL",
        "outputId": "754fac65-ccb7-4a17-9c09-a7e4da334b20"
      },
      "execution_count": null,
      "outputs": [
        {
          "output_type": "stream",
          "name": "stdout",
          "text": [
            "Using https://tfhub.dev/google/tf2-preview/mobilenet_v2/feature_vector/4 with input size (224, 224) and output dimension 1280\n"
          ]
        }
      ]
    },
    {
      "cell_type": "markdown",
      "source": [
        "# ImageGenerator"
      ],
      "metadata": {
        "id": "JlKkG4ExUFUF"
      }
    },
    {
      "cell_type": "code",
      "source": [
        "BATCH_SIZE = 64 "
      ],
      "metadata": {
        "id": "BQLOF2oDS6-a"
      },
      "execution_count": null,
      "outputs": []
    },
    {
      "cell_type": "code",
      "source": [
        "# Datagen\n",
        "train_datagen =  tf.keras.preprocessing.image.ImageDataGenerator(\n",
        "    rescale=1./255,\n",
        "    shear_range=0.2,\n",
        "    zoom_range=0.2,\n",
        "    fill_mode='nearest'\n",
        ")\n",
        "\n",
        "test_datagen = ImageDataGenerator(rescale=1./255)\n",
        "valid_datagen =  ImageDataGenerator(rescale=1./255)\n",
        "\n",
        "# Flow training data generator\n",
        "train_generator = train_datagen.flow_from_directory(\n",
        "    train_dir,\n",
        "    target_size=(224, 224),\n",
        "    batch_size=BATCH_SIZE,\n",
        "    shuffle=True,\n",
        "    class_mode='categorical'\n",
        ")\n",
        "\n",
        "# Flow validation data generator\n",
        "validation_generator = valid_datagen.flow_from_directory(\n",
        "    valid_dir,\n",
        "    target_size=(224, 224),\n",
        "    batch_size=BATCH_SIZE,\n",
        "    shuffle=False,\n",
        "    class_mode='categorical'\n",
        ")\n",
        "\n",
        "# Flow test data generator\n",
        "test_generator = test_datagen.flow_from_directory(\n",
        "    test_dir,\n",
        "    target_size=(224, 224),\n",
        "    batch_size=BATCH_SIZE,\n",
        "    shuffle=False,\n",
        "    class_mode='categorical'\n",
        ")"
      ],
      "metadata": {
        "colab": {
          "base_uri": "https://localhost:8080/"
        },
        "id": "2MQoE1giUNTe",
        "outputId": "0af59ce1-a035-47a7-f49b-b66098f17331"
      },
      "execution_count": null,
      "outputs": [
        {
          "output_type": "stream",
          "name": "stdout",
          "text": [
            "Found 16100 images belonging to 23 classes.\n",
            "Found 3450 images belonging to 23 classes.\n",
            "Found 3450 images belonging to 23 classes.\n"
          ]
        }
      ]
    },
    {
      "cell_type": "code",
      "source": [
        "class_names = list(train_generator.class_indices.keys())\n",
        "\n",
        "# Create a label.txt file with the class names\n",
        "\n",
        "with open('label.txt', 'w') as f:\n",
        "    f.write('\\n'.join(class_names))"
      ],
      "metadata": {
        "id": "zmBKK_NMUgbj"
      },
      "execution_count": null,
      "outputs": []
    },
    {
      "cell_type": "code",
      "source": [
        "feature_extractor = hub.KerasLayer(\n",
        "    MODULE_HANDLE,\n",
        "    input_shape=IMAGE_SIZE + (3,), \n",
        "    output_shape=[FV_SIZE],\n",
        "    trainable=False\n",
        ")"
      ],
      "metadata": {
        "id": "Zhdp-pJyUjQX"
      },
      "execution_count": null,
      "outputs": []
    },
    {
      "cell_type": "code",
      "source": [
        "print(\"Building model with\", MODULE_HANDLE)\n",
        "\n",
        "model = tf.keras.Sequential([\n",
        "    feature_extractor,\n",
        "    tf.keras.layers.Dense(512, activation='relu'),\n",
        "    tf.keras.layers.Dense(len(class_names), activation='softmax')\n",
        "])\n",
        "\n",
        "model.summary()"
      ],
      "metadata": {
        "colab": {
          "base_uri": "https://localhost:8080/"
        },
        "id": "_vgUMgWWUmUN",
        "outputId": "dbd79b06-d681-484b-e28a-2cd90c948632"
      },
      "execution_count": null,
      "outputs": [
        {
          "output_type": "stream",
          "name": "stdout",
          "text": [
            "Building model with https://tfhub.dev/google/tf2-preview/mobilenet_v2/feature_vector/4\n",
            "Model: \"sequential\"\n",
            "_________________________________________________________________\n",
            " Layer (type)                Output Shape              Param #   \n",
            "=================================================================\n",
            " keras_layer (KerasLayer)    (None, 1280)              2257984   \n",
            "                                                                 \n",
            " dense (Dense)               (None, 512)               655872    \n",
            "                                                                 \n",
            " dense_1 (Dense)             (None, 23)                11799     \n",
            "                                                                 \n",
            "=================================================================\n",
            "Total params: 2,925,655\n",
            "Trainable params: 667,671\n",
            "Non-trainable params: 2,257,984\n",
            "_________________________________________________________________\n"
          ]
        }
      ]
    },
    {
      "cell_type": "code",
      "source": [
        "model.compile(\n",
        "    optimizer='adam',\n",
        "    loss='categorical_crossentropy',\n",
        "    metrics=['accuracy']\n",
        ")"
      ],
      "metadata": {
        "id": "vuZ5qSvlU-wc"
      },
      "execution_count": null,
      "outputs": []
    },
    {
      "cell_type": "markdown",
      "source": [
        "# Train the model using MobileNet v2"
      ],
      "metadata": {
        "id": "c5Wr3JjiVAYc"
      }
    },
    {
      "cell_type": "code",
      "source": [
        "from keras import callbacks\n",
        "\n",
        "early_stop = callbacks.EarlyStopping(\n",
        "    monitor=\"val_loss\", \n",
        "    mode=\"min\",\n",
        "    patience=3,\n",
        "    restore_best_weights=True\n",
        ")"
      ],
      "metadata": {
        "id": "gJTn6mxoVIFm"
      },
      "execution_count": null,
      "outputs": []
    },
    {
      "cell_type": "code",
      "source": [
        "EPOCHS = 10\n",
        "\n",
        "history = model.fit(\n",
        "    train_generator,\n",
        "    epochs=EPOCHS,\n",
        "    validation_data=validation_generator,\n",
        "    verbose=1,\n",
        "    callbacks=[early_stop]\n",
        ")"
      ],
      "metadata": {
        "colab": {
          "base_uri": "https://localhost:8080/"
        },
        "id": "YfS4otSdVOHX",
        "outputId": "473303aa-5c1e-4060-f963-f402b87be0e8"
      },
      "execution_count": null,
      "outputs": [
        {
          "output_type": "stream",
          "name": "stdout",
          "text": [
            "Epoch 1/10\n",
            "252/252 [==============================] - 951s 4s/step - loss: 1.1119 - accuracy: 0.6715 - val_loss: 0.8639 - val_accuracy: 0.7374\n",
            "Epoch 2/10\n",
            "252/252 [==============================] - 940s 4s/step - loss: 0.7537 - accuracy: 0.7693 - val_loss: 0.8371 - val_accuracy: 0.7441\n",
            "Epoch 3/10\n",
            "252/252 [==============================] - 979s 4s/step - loss: 0.6468 - accuracy: 0.8007 - val_loss: 0.8409 - val_accuracy: 0.7449\n",
            "Epoch 4/10\n",
            "252/252 [==============================] - 922s 4s/step - loss: 0.5564 - accuracy: 0.8219 - val_loss: 0.8269 - val_accuracy: 0.7565\n",
            "Epoch 5/10\n",
            "252/252 [==============================] - 927s 4s/step - loss: 0.4859 - accuracy: 0.8413 - val_loss: 0.8166 - val_accuracy: 0.7539\n",
            "Epoch 6/10\n",
            "252/252 [==============================] - 915s 4s/step - loss: 0.4205 - accuracy: 0.8622 - val_loss: 0.8365 - val_accuracy: 0.7597\n",
            "Epoch 7/10\n",
            "252/252 [==============================] - 918s 4s/step - loss: 0.3727 - accuracy: 0.8742 - val_loss: 0.9055 - val_accuracy: 0.7443\n",
            "Epoch 8/10\n",
            "252/252 [==============================] - 923s 4s/step - loss: 0.3269 - accuracy: 0.8884 - val_loss: 0.8538 - val_accuracy: 0.7542\n"
          ]
        }
      ]
    },
    {
      "cell_type": "markdown",
      "source": [
        "# Training Result"
      ],
      "metadata": {
        "id": "SYziOZtCvAX7"
      }
    },
    {
      "cell_type": "code",
      "source": [
        "import matplotlib.pyplot as plt\n",
        "acc = history.history['accuracy']\n",
        "val_acc = history.history['val_accuracy']\n",
        "loss = history.history['loss']\n",
        "val_loss = history.history['val_loss']\n",
        "\n",
        "epochs = range(len(acc))\n",
        "\n",
        "plt.plot(epochs, acc, 'b', label='Training accuracy')\n",
        "plt.plot(epochs, val_acc, 'r', label='Validation accuracy')\n",
        "plt.title('Training and validation accuracy')\n",
        "plt.legend()\n",
        "plt.figure()\n",
        "plt.plot(epochs, loss, 'b', label='Training Loss')\n",
        "plt.plot(epochs, val_loss, 'r', label='Validation Loss')\n",
        "plt.title('Training and validation loss')\n",
        "plt.legend()\n",
        "plt.show()"
      ],
      "metadata": {
        "colab": {
          "base_uri": "https://localhost:8080/",
          "height": 887
        },
        "id": "wlky_2oKVRLZ",
        "outputId": "0a271d19-3ead-4526-c4d2-a5a8c65e5dc5"
      },
      "execution_count": null,
      "outputs": [
        {
          "output_type": "display_data",
          "data": {
            "text/plain": [
              "<Figure size 640x480 with 1 Axes>"
            ],
            "image/png": "[encoded data removed]"
          },
          "metadata": {}
        },
        {
          "output_type": "display_data",
          "data": {
            "text/plain": [
              "<Figure size 640x480 with 1 Axes>"
            ],
            "image/png": "[encoded data removed]"
          },
          "metadata": {}
        }
      ]
    },
    {
      "cell_type": "code",
      "source": [
        "# Evaluate final score on Validation and Testing data\n",
        "\n",
        "scores = model.evaluate(validation_generator)\n",
        "scores = model.evaluate(test_generator)"
      ],
      "metadata": {
        "colab": {
          "base_uri": "https://localhost:8080/"
        },
        "id": "cOWJw4KFvMQb",
        "outputId": "7ddaef18-de9b-4310-a8bc-d1715597c26d"
      },
      "execution_count": null,
      "outputs": [
        {
          "output_type": "stream",
          "name": "stdout",
          "text": [
            "54/54 [==============================] - 136s 3s/step - loss: 0.8166 - accuracy: 0.7539\n",
            "54/54 [==============================] - 135s 2s/step - loss: 0.7231 - accuracy: 0.7757\n"
          ]
        }
      ]
    },
    {
      "cell_type": "markdown",
      "source": [
        "# Results :\n",
        "- Training : 84.13 %\n",
        "- Validation : 75.39 %\n",
        "- Test : 77.57 %"
      ],
      "metadata": {
        "id": "e26Dy-H8ZNmH"
      }
    },
    {
      "cell_type": "markdown",
      "source": [
        "# Export and Convert Model to tflite"
      ],
      "metadata": {
        "id": "me-CeddevqC0"
      }
    },
    {
      "cell_type": "code",
      "source": [
        "model.save('model.h5')\n",
        "model.save('model')\n",
        "!zip -r 'model.zip' 'model'"
      ],
      "metadata": {
        "colab": {
          "base_uri": "https://localhost:8080/"
        },
        "id": "NPXH46_jvsHo",
        "outputId": "bdea7b03-abe6-4226-ef9d-436f0a6c0b7e"
      },
      "execution_count": null,
      "outputs": [
        {
          "output_type": "stream",
          "name": "stderr",
          "text": [
            "WARNING:absl:Found untraced functions such as _update_step_xla while saving (showing 1 of 1). These functions will not be directly callable after loading.\n"
          ]
        },
        {
          "output_type": "stream",
          "name": "stdout",
          "text": [
            "  adding: model/ (stored 0%)\n",
            "  adding: model/assets/ (stored 0%)\n",
            "  adding: model/keras_metadata.pb (deflated 84%)\n",
            "  adding: model/saved_model.pb (deflated 92%)\n",
            "  adding: model/fingerprint.pb (stored 0%)\n",
            "  adding: model/variables/ (stored 0%)\n",
            "  adding: model/variables/variables.data-00000-of-00001 (deflated 7%)\n",
            "  adding: model/variables/variables.index (deflated 78%)\n"
          ]
        }
      ]
    },
    {
      "cell_type": "code",
      "source": [
        "converter = tf.lite.TFLiteConverter.from_saved_model('model')\n",
        "\n",
        "# Set the optimizations\n",
        "converter.optimizations = [tf.lite.Optimize.DEFAULT]\n",
        "converter.target_spec.supported_ops = [tf.lite.OpsSet.TFLITE_BUILTINS]\n",
        "\n",
        "# Invoke the converter to generate the TFLite model\n",
        "tflite_model = converter.convert()\n",
        "\n",
        "tflite_model_file = pathlib.Path('./model.tflite')\n",
        "tflite_model_file.write_bytes(tflite_model)"
      ],
      "metadata": {
        "colab": {
          "base_uri": "https://localhost:8080/"
        },
        "id": "ZlY6naCiv9oL",
        "outputId": "33c20ab9-28dc-4119-c9cb-079a562b2daa"
      },
      "execution_count": null,
      "outputs": [
        {
          "output_type": "execute_result",
          "data": {
            "text/plain": [
              "3176904"
            ]
          },
          "metadata": {},
          "execution_count": 18
        }
      ]
    },
    {
      "cell_type": "markdown",
      "source": [
        "# Model Evaluation"
      ],
      "metadata": {
        "id": "BoqTV1WJYcXr"
      }
    },
    {
      "cell_type": "code",
      "source": [
        "from sklearn.metrics import classification_report, confusion_matrix\n",
        "\n",
        "Y_pred = model.predict(test_generator)\n",
        "y_pred = np.argmax(Y_pred, axis=1)\n",
        "\n",
        "cm = confusion_matrix(test_generator.classes, y_pred)\n",
        "\n",
        "print('Classification Report')\n",
        "print(classification_report(test_generator.classes, y_pred, target_names=class_names))"
      ],
      "metadata": {
        "colab": {
          "base_uri": "https://localhost:8080/"
        },
        "id": "dM9HdWoowJK-",
        "outputId": "dbda1e0b-747e-4c0e-ebda-a719f2ace197"
      },
      "execution_count": null,
      "outputs": [
        {
          "output_type": "stream",
          "name": "stdout",
          "text": [
            "54/54 [==============================] - 130s 2s/step\n",
            "Classification Report\n",
            "                precision    recall  f1-score   support\n",
            "\n",
            "         bakso       0.92      0.93      0.93       150\n",
            "         bread       0.49      0.52      0.50       150\n",
            "    cheesecake       0.71      0.65      0.68       150\n",
            " chicken_wings       0.72      0.87      0.79       150\n",
            "       churros       0.93      0.74      0.83       150\n",
            "       dessert       0.55      0.43      0.48       150\n",
            "        donuts       0.73      0.83      0.77       150\n",
            "           egg       0.76      0.71      0.74       150\n",
            "  french_fries       0.80      0.88      0.84       150\n",
            "    fried_rice       0.78      0.91      0.84       150\n",
            "          gado       0.84      0.91      0.88       150\n",
            "     hamburger       0.78      0.81      0.79       150\n",
            "       hot_dog       0.81      0.83      0.82       150\n",
            "mac_and_cheese       0.76      0.81      0.78       150\n",
            "      pancakes       0.64      0.70      0.67       150\n",
            "         pizza       0.73      0.60      0.66       150\n",
            "       rendang       0.87      0.90      0.88       150\n",
            "          sate       0.99      0.75      0.85       150\n",
            "          soup       0.92      0.92      0.92       150\n",
            "     spaghetti       0.97      0.94      0.95       150\n",
            "         sushi       0.91      0.66      0.76       150\n",
            "      takoyaki       0.71      0.83      0.76       150\n",
            "       waffles       0.66      0.71      0.68       150\n",
            "\n",
            "      accuracy                           0.78      3450\n",
            "     macro avg       0.78      0.78      0.77      3450\n",
            "  weighted avg       0.78      0.78      0.77      3450\n",
            "\n"
          ]
        }
      ]
    }
  ]
}